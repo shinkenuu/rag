{
 "cells": [
  {
   "cell_type": "code",
   "execution_count": 59,
   "metadata": {},
   "outputs": [],
   "source": [
    "from langchain.chat_models import ChatOpenAI\n",
    "from langchain.prompts import ChatPromptTemplate\n",
    "\n",
    "from etl import etl\n",
    "\n",
    "chat = ChatOpenAI(temperature=0)"
   ]
  },
  {
   "cell_type": "code",
   "execution_count": 60,
   "metadata": {},
   "outputs": [],
   "source": [
    "book_file_path = \"media/blue_ocean_strategy.pdf\"\n",
    "weaviate = etl(book_file_path)"
   ]
  },
  {
   "cell_type": "code",
   "execution_count": 61,
   "metadata": {},
   "outputs": [],
   "source": [
    "question = \"Make me a quiz of 5 questions using concepts of Blue Ocean\""
   ]
  },
  {
   "cell_type": "code",
   "execution_count": 62,
   "metadata": {},
   "outputs": [],
   "source": [
    "docs = weaviate.similarity_search(question)\n",
    "context = '\\n'.join([doc.page_content for doc in docs])"
   ]
  },
  {
   "cell_type": "code",
   "execution_count": 63,
   "metadata": {},
   "outputs": [],
   "source": [
    "template = ChatPromptTemplate.from_messages([\n",
    "    (\"system\", \"Given the following context inside triple ` answer user's questions\\n\\n```{context}```\"),\n",
    "    (\"human\", \"{question}\"),\n",
    "])\n",
    "\n",
    "messages = template.format_messages(\n",
    "    context=context,\n",
    "    question=question\n",
    ")"
   ]
  },
  {
   "cell_type": "code",
   "execution_count": 64,
   "metadata": {},
   "outputs": [],
   "source": [
    "answer = chat(template.format_messages(context=context, question=question))"
   ]
  },
  {
   "cell_type": "code",
   "execution_count": 65,
   "metadata": {},
   "outputs": [
    {
     "data": {
      "text/plain": [
       "AIMessage(content='Sure! Here\\'s a quiz with 5 questions related to the concepts of Blue Ocean:\\n\\n1. What is the main objective of Blue Ocean Strategy?\\na) To create uncontested market space\\nb) To benchmark competitors\\nc) To divide existing demand\\nd) To compete in known market space\\n\\n2. Which chapter of the book \"Blue Ocean Strategy\" focuses on creating un-contested market space across diverse industry domains?\\na) Chapter 1: Creating Blue Oceans\\nb) Chapter 2: Analytical Tools and Frameworks\\nc) Chapter 3: Reconstruct Market Boundaries\\nd) Chapter 4: Focus on the Big Picture, Not the Numbers\\n\\n3. According to Blue Ocean Strategy, what is the alternative to the existing strategic planning process?\\na) Incremental improvements\\nb) Number-crunching exercise\\nc) Visualizing approach\\nd) Focusing on customer preferences\\n\\n4. How does Blue Ocean Strategy challenge the conventional practice of aiming for finer segmentation?\\na) By focusing on the differences that separate customers\\nb) By building on the powerful commonalities across noncustomers\\nc) By dividing up existing demand\\nd) By benchmarking competitors\\n\\n5. What is the key principle of Blue Ocean Strategy to maximize the size of a blue ocean?\\na) Attenuating search risk\\nb) Tackling planning risk\\nc) Minimizing scale risk\\nd) Breaking away from the competition\\n\\nAnswers:\\n1. a) To create uncontested market space\\n2. c) Chapter 3: Reconstruct Market Boundaries\\n3. c) Visualizing approach\\n4. b) By building on the powerful commonalities across noncustomers\\n5. c) Minimizing scale risk', additional_kwargs={}, example=False)"
      ]
     },
     "execution_count": 65,
     "metadata": {},
     "output_type": "execute_result"
    }
   ],
   "source": [
    "answer"
   ]
  },
  {
   "cell_type": "markdown",
   "metadata": {},
   "source": []
  },
  {
   "cell_type": "code",
   "execution_count": 66,
   "metadata": {},
   "outputs": [
    {
     "name": "stdout",
     "output_type": "stream",
     "text": [
      "Sure! Here's a quiz with 5 questions related to the concepts of Blue Ocean:\n",
      "\n",
      "1\n",
      "What is the main objective of Blue Ocean Strategy?\n",
      "a) To create uncontested market space\n",
      "b) To benchmark competitors\n",
      "c) To divide existing demand\n",
      "d) To compete in known market space\n",
      "\n",
      "2\n",
      "Which chapter of the book \"Blue Ocean Strategy\" focuses on creating un-contested market space across diverse industry domains?\n",
      "a) Chapter 1: Creating Blue Oceans\n",
      "b) Chapter 2: Analytical Tools and Frameworks\n",
      "c) Chapter 3: Reconstruct Market Boundaries\n",
      "d) Chapter 4: Focus on the Big Picture, Not the Numbers\n",
      "\n",
      "3\n",
      "According to Blue Ocean Strategy, what is the alternative to the existing strategic planning process?\n",
      "a) Incremental improvements\n",
      "b) Number-crunching exercise\n",
      "c) Visualizing approach\n",
      "d) Focusing on customer preferences\n",
      "\n",
      "4\n",
      "How does Blue Ocean Strategy challenge the conventional practice of aiming for finer segmentation?\n",
      "a) By focusing on the differences that separate customers\n",
      "b) By building on the powerful commonalities across noncustomers\n",
      "c) By dividing up existing demand\n",
      "d) By benchmarking competitors\n",
      "\n",
      "5\n",
      "What is the key principle of Blue Ocean Strategy to maximize the size of a blue ocean?\n",
      "a) Attenuating search risk\n",
      "b) Tackling planning risk\n",
      "c) Minimizing scale risk\n",
      "d) Breaking away from the competition\n",
      "\n",
      "Answers:\n",
      "1\n",
      "a) To create uncontested market space\n",
      "2\n",
      "c) Chapter 3: Reconstruct Market Boundaries\n",
      "3\n",
      "c) Visualizing approach\n",
      "4\n",
      "b) By building on the powerful commonalities across noncustomers\n",
      "5\n",
      "c) Minimizing scale risk\n"
     ]
    }
   ],
   "source": [
    "content = answer.content\n",
    "sentences = content.split(\". \")\n",
    "for sentence in sentences:\n",
    "    print(sentence)"
   ]
  }
 ],
 "metadata": {
  "kernelspec": {
   "display_name": "llm-pxxad5yE-py3.9",
   "language": "python",
   "name": "python3"
  },
  "language_info": {
   "codemirror_mode": {
    "name": "ipython",
    "version": 3
   },
   "file_extension": ".py",
   "mimetype": "text/x-python",
   "name": "python",
   "nbconvert_exporter": "python",
   "pygments_lexer": "ipython3",
   "version": "3.9.6"
  },
  "orig_nbformat": 4
 },
 "nbformat": 4,
 "nbformat_minor": 2
}
