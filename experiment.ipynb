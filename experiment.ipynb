{
 "cells": [
  {
   "cell_type": "code",
   "execution_count": 1,
   "metadata": {},
   "outputs": [],
   "source": [
    "from langchain.chat_models import ChatOpenAI\n",
    "from langchain.prompts import ChatPromptTemplate\n",
    "\n",
    "from etl import etl\n",
    "\n",
    "chat = ChatOpenAI(temperature=0)"
   ]
  },
  {
   "cell_type": "code",
   "execution_count": 2,
   "metadata": {},
   "outputs": [],
   "source": [
    "book_file_path = \"./textbooks/Data_Science_for_Business.pdf\"\n",
    "weaviate = etl(book_file_path)"
   ]
  },
  {
   "cell_type": "code",
   "execution_count": 3,
   "metadata": {},
   "outputs": [],
   "source": [
    "question = \"How TFIDF works and where can I apply it?\""
   ]
  },
  {
   "cell_type": "code",
   "execution_count": 4,
   "metadata": {},
   "outputs": [],
   "source": [
    "docs = weaviate.similarity_search(question)\n",
    "context = '\\n'.join([doc.page_content for doc in docs])"
   ]
  },
  {
   "cell_type": "code",
   "execution_count": 12,
   "metadata": {},
   "outputs": [],
   "source": [
    "template = ChatPromptTemplate.from_messages([\n",
    "    (\"system\", \"Given the following context inside triple ` answer user's questions\\n\\n```{context}```\"),\n",
    "    (\"human\", \"{question}\"),\n",
    "])\n",
    "\n",
    "messages = template.format_messages(\n",
    "    context=context,\n",
    "    question=question\n",
    ")"
   ]
  },
  {
   "cell_type": "code",
   "execution_count": 6,
   "metadata": {},
   "outputs": [
    {
     "ename": "TypeError",
     "evalue": "Got unknown type ('input_variables', [])",
     "output_type": "error",
     "traceback": [
      "\u001b[0;31m---------------------------------------------------------------------------\u001b[0m",
      "\u001b[0;31mTypeError\u001b[0m                                 Traceback (most recent call last)",
      "\u001b[1;32m/home/shinkenuu/Projects/einstein/llm/experiment.ipynb Cell 6\u001b[0m line \u001b[0;36m1\n\u001b[0;32m----> <a href='vscode-notebook-cell:/home/shinkenuu/Projects/einstein/llm/experiment.ipynb#W5sZmlsZQ%3D%3D?line=0'>1</a>\u001b[0m answer \u001b[39m=\u001b[39m chat(prompt)\n",
      "File \u001b[0;32m~/Projects/einstein/llm/.venv/lib/python3.9/site-packages/langchain/chat_models/base.py:551\u001b[0m, in \u001b[0;36mBaseChatModel.__call__\u001b[0;34m(self, messages, stop, callbacks, **kwargs)\u001b[0m\n\u001b[1;32m    544\u001b[0m \u001b[39mdef\u001b[39;00m \u001b[39m__call__\u001b[39m(\n\u001b[1;32m    545\u001b[0m     \u001b[39mself\u001b[39m,\n\u001b[1;32m    546\u001b[0m     messages: List[BaseMessage],\n\u001b[0;32m   (...)\u001b[0m\n\u001b[1;32m    549\u001b[0m     \u001b[39m*\u001b[39m\u001b[39m*\u001b[39mkwargs: Any,\n\u001b[1;32m    550\u001b[0m ) \u001b[39m-\u001b[39m\u001b[39m>\u001b[39m BaseMessage:\n\u001b[0;32m--> 551\u001b[0m     generation \u001b[39m=\u001b[39m \u001b[39mself\u001b[39;49m\u001b[39m.\u001b[39;49mgenerate(\n\u001b[1;32m    552\u001b[0m         [messages], stop\u001b[39m=\u001b[39;49mstop, callbacks\u001b[39m=\u001b[39;49mcallbacks, \u001b[39m*\u001b[39;49m\u001b[39m*\u001b[39;49mkwargs\n\u001b[1;32m    553\u001b[0m     )\u001b[39m.\u001b[39mgenerations[\u001b[39m0\u001b[39m][\u001b[39m0\u001b[39m]\n\u001b[1;32m    554\u001b[0m     \u001b[39mif\u001b[39;00m \u001b[39misinstance\u001b[39m(generation, ChatGeneration):\n\u001b[1;32m    555\u001b[0m         \u001b[39mreturn\u001b[39;00m generation\u001b[39m.\u001b[39mmessage\n",
      "File \u001b[0;32m~/Projects/einstein/llm/.venv/lib/python3.9/site-packages/langchain/chat_models/base.py:309\u001b[0m, in \u001b[0;36mBaseChatModel.generate\u001b[0;34m(self, messages, stop, callbacks, tags, metadata, **kwargs)\u001b[0m\n\u001b[1;32m    307\u001b[0m         \u001b[39mif\u001b[39;00m run_managers:\n\u001b[1;32m    308\u001b[0m             run_managers[i]\u001b[39m.\u001b[39mon_llm_error(e)\n\u001b[0;32m--> 309\u001b[0m         \u001b[39mraise\u001b[39;00m e\n\u001b[1;32m    310\u001b[0m flattened_outputs \u001b[39m=\u001b[39m [\n\u001b[1;32m    311\u001b[0m     LLMResult(generations\u001b[39m=\u001b[39m[res\u001b[39m.\u001b[39mgenerations], llm_output\u001b[39m=\u001b[39mres\u001b[39m.\u001b[39mllm_output)\n\u001b[1;32m    312\u001b[0m     \u001b[39mfor\u001b[39;00m res \u001b[39min\u001b[39;00m results\n\u001b[1;32m    313\u001b[0m ]\n\u001b[1;32m    314\u001b[0m llm_output \u001b[39m=\u001b[39m \u001b[39mself\u001b[39m\u001b[39m.\u001b[39m_combine_llm_outputs([res\u001b[39m.\u001b[39mllm_output \u001b[39mfor\u001b[39;00m res \u001b[39min\u001b[39;00m results])\n",
      "File \u001b[0;32m~/Projects/einstein/llm/.venv/lib/python3.9/site-packages/langchain/chat_models/base.py:299\u001b[0m, in \u001b[0;36mBaseChatModel.generate\u001b[0;34m(self, messages, stop, callbacks, tags, metadata, **kwargs)\u001b[0m\n\u001b[1;32m    296\u001b[0m \u001b[39mfor\u001b[39;00m i, m \u001b[39min\u001b[39;00m \u001b[39menumerate\u001b[39m(messages):\n\u001b[1;32m    297\u001b[0m     \u001b[39mtry\u001b[39;00m:\n\u001b[1;32m    298\u001b[0m         results\u001b[39m.\u001b[39mappend(\n\u001b[0;32m--> 299\u001b[0m             \u001b[39mself\u001b[39;49m\u001b[39m.\u001b[39;49m_generate_with_cache(\n\u001b[1;32m    300\u001b[0m                 m,\n\u001b[1;32m    301\u001b[0m                 stop\u001b[39m=\u001b[39;49mstop,\n\u001b[1;32m    302\u001b[0m                 run_manager\u001b[39m=\u001b[39;49mrun_managers[i] \u001b[39mif\u001b[39;49;00m run_managers \u001b[39melse\u001b[39;49;00m \u001b[39mNone\u001b[39;49;00m,\n\u001b[1;32m    303\u001b[0m                 \u001b[39m*\u001b[39;49m\u001b[39m*\u001b[39;49mkwargs,\n\u001b[1;32m    304\u001b[0m             )\n\u001b[1;32m    305\u001b[0m         )\n\u001b[1;32m    306\u001b[0m     \u001b[39mexcept\u001b[39;00m (\u001b[39mKeyboardInterrupt\u001b[39;00m, \u001b[39mException\u001b[39;00m) \u001b[39mas\u001b[39;00m e:\n\u001b[1;32m    307\u001b[0m         \u001b[39mif\u001b[39;00m run_managers:\n",
      "File \u001b[0;32m~/Projects/einstein/llm/.venv/lib/python3.9/site-packages/langchain/chat_models/base.py:446\u001b[0m, in \u001b[0;36mBaseChatModel._generate_with_cache\u001b[0;34m(self, messages, stop, run_manager, **kwargs)\u001b[0m\n\u001b[1;32m    442\u001b[0m     \u001b[39mraise\u001b[39;00m \u001b[39mValueError\u001b[39;00m(\n\u001b[1;32m    443\u001b[0m         \u001b[39m\"\u001b[39m\u001b[39mAsked to cache, but no cache found at `langchain.cache`.\u001b[39m\u001b[39m\"\u001b[39m\n\u001b[1;32m    444\u001b[0m     )\n\u001b[1;32m    445\u001b[0m \u001b[39mif\u001b[39;00m new_arg_supported:\n\u001b[0;32m--> 446\u001b[0m     \u001b[39mreturn\u001b[39;00m \u001b[39mself\u001b[39;49m\u001b[39m.\u001b[39;49m_generate(\n\u001b[1;32m    447\u001b[0m         messages, stop\u001b[39m=\u001b[39;49mstop, run_manager\u001b[39m=\u001b[39;49mrun_manager, \u001b[39m*\u001b[39;49m\u001b[39m*\u001b[39;49mkwargs\n\u001b[1;32m    448\u001b[0m     )\n\u001b[1;32m    449\u001b[0m \u001b[39melse\u001b[39;00m:\n\u001b[1;32m    450\u001b[0m     \u001b[39mreturn\u001b[39;00m \u001b[39mself\u001b[39m\u001b[39m.\u001b[39m_generate(messages, stop\u001b[39m=\u001b[39mstop, \u001b[39m*\u001b[39m\u001b[39m*\u001b[39mkwargs)\n",
      "File \u001b[0;32m~/Projects/einstein/llm/.venv/lib/python3.9/site-packages/langchain/chat_models/openai.py:337\u001b[0m, in \u001b[0;36mChatOpenAI._generate\u001b[0;34m(self, messages, stop, run_manager, stream, **kwargs)\u001b[0m\n\u001b[1;32m    334\u001b[0m     \u001b[39massert\u001b[39;00m generation \u001b[39mis\u001b[39;00m \u001b[39mnot\u001b[39;00m \u001b[39mNone\u001b[39;00m\n\u001b[1;32m    335\u001b[0m     \u001b[39mreturn\u001b[39;00m ChatResult(generations\u001b[39m=\u001b[39m[generation])\n\u001b[0;32m--> 337\u001b[0m message_dicts, params \u001b[39m=\u001b[39m \u001b[39mself\u001b[39;49m\u001b[39m.\u001b[39;49m_create_message_dicts(messages, stop)\n\u001b[1;32m    338\u001b[0m params \u001b[39m=\u001b[39m {\u001b[39m*\u001b[39m\u001b[39m*\u001b[39mparams, \u001b[39m*\u001b[39m\u001b[39m*\u001b[39mkwargs}\n\u001b[1;32m    339\u001b[0m response \u001b[39m=\u001b[39m \u001b[39mself\u001b[39m\u001b[39m.\u001b[39mcompletion_with_retry(\n\u001b[1;32m    340\u001b[0m     messages\u001b[39m=\u001b[39mmessage_dicts, run_manager\u001b[39m=\u001b[39mrun_manager, \u001b[39m*\u001b[39m\u001b[39m*\u001b[39mparams\n\u001b[1;32m    341\u001b[0m )\n",
      "File \u001b[0;32m~/Projects/einstein/llm/.venv/lib/python3.9/site-packages/langchain/chat_models/openai.py:352\u001b[0m, in \u001b[0;36mChatOpenAI._create_message_dicts\u001b[0;34m(self, messages, stop)\u001b[0m\n\u001b[1;32m    350\u001b[0m         \u001b[39mraise\u001b[39;00m \u001b[39mValueError\u001b[39;00m(\u001b[39m\"\u001b[39m\u001b[39m`stop` found in both the input and default params.\u001b[39m\u001b[39m\"\u001b[39m)\n\u001b[1;32m    351\u001b[0m     params[\u001b[39m\"\u001b[39m\u001b[39mstop\u001b[39m\u001b[39m\"\u001b[39m] \u001b[39m=\u001b[39m stop\n\u001b[0;32m--> 352\u001b[0m message_dicts \u001b[39m=\u001b[39m [convert_message_to_dict(m) \u001b[39mfor\u001b[39;00m m \u001b[39min\u001b[39;00m messages]\n\u001b[1;32m    353\u001b[0m \u001b[39mreturn\u001b[39;00m message_dicts, params\n",
      "File \u001b[0;32m~/Projects/einstein/llm/.venv/lib/python3.9/site-packages/langchain/chat_models/openai.py:352\u001b[0m, in \u001b[0;36m<listcomp>\u001b[0;34m(.0)\u001b[0m\n\u001b[1;32m    350\u001b[0m         \u001b[39mraise\u001b[39;00m \u001b[39mValueError\u001b[39;00m(\u001b[39m\"\u001b[39m\u001b[39m`stop` found in both the input and default params.\u001b[39m\u001b[39m\"\u001b[39m)\n\u001b[1;32m    351\u001b[0m     params[\u001b[39m\"\u001b[39m\u001b[39mstop\u001b[39m\u001b[39m\"\u001b[39m] \u001b[39m=\u001b[39m stop\n\u001b[0;32m--> 352\u001b[0m message_dicts \u001b[39m=\u001b[39m [convert_message_to_dict(m) \u001b[39mfor\u001b[39;00m m \u001b[39min\u001b[39;00m messages]\n\u001b[1;32m    353\u001b[0m \u001b[39mreturn\u001b[39;00m message_dicts, params\n",
      "File \u001b[0;32m~/Projects/einstein/llm/.venv/lib/python3.9/site-packages/langchain/adapters/openai.py:83\u001b[0m, in \u001b[0;36mconvert_message_to_dict\u001b[0;34m(message)\u001b[0m\n\u001b[1;32m     77\u001b[0m     message_dict \u001b[39m=\u001b[39m {\n\u001b[1;32m     78\u001b[0m         \u001b[39m\"\u001b[39m\u001b[39mrole\u001b[39m\u001b[39m\"\u001b[39m: \u001b[39m\"\u001b[39m\u001b[39mfunction\u001b[39m\u001b[39m\"\u001b[39m,\n\u001b[1;32m     79\u001b[0m         \u001b[39m\"\u001b[39m\u001b[39mcontent\u001b[39m\u001b[39m\"\u001b[39m: message\u001b[39m.\u001b[39mcontent,\n\u001b[1;32m     80\u001b[0m         \u001b[39m\"\u001b[39m\u001b[39mname\u001b[39m\u001b[39m\"\u001b[39m: message\u001b[39m.\u001b[39mname,\n\u001b[1;32m     81\u001b[0m     }\n\u001b[1;32m     82\u001b[0m \u001b[39melse\u001b[39;00m:\n\u001b[0;32m---> 83\u001b[0m     \u001b[39mraise\u001b[39;00m \u001b[39mTypeError\u001b[39;00m(\u001b[39mf\u001b[39m\u001b[39m\"\u001b[39m\u001b[39mGot unknown type \u001b[39m\u001b[39m{\u001b[39;00mmessage\u001b[39m}\u001b[39;00m\u001b[39m\"\u001b[39m)\n\u001b[1;32m     84\u001b[0m \u001b[39mif\u001b[39;00m \u001b[39m\"\u001b[39m\u001b[39mname\u001b[39m\u001b[39m\"\u001b[39m \u001b[39min\u001b[39;00m message\u001b[39m.\u001b[39madditional_kwargs:\n\u001b[1;32m     85\u001b[0m     message_dict[\u001b[39m\"\u001b[39m\u001b[39mname\u001b[39m\u001b[39m\"\u001b[39m] \u001b[39m=\u001b[39m message\u001b[39m.\u001b[39madditional_kwargs[\u001b[39m\"\u001b[39m\u001b[39mname\u001b[39m\u001b[39m\"\u001b[39m]\n",
      "\u001b[0;31mTypeError\u001b[0m: Got unknown type ('input_variables', [])"
     ]
    }
   ],
   "source": [
    "answer = chat(template.format_messages(context=context, question=question))"
   ]
  },
  {
   "cell_type": "code",
   "execution_count": null,
   "metadata": {},
   "outputs": [
    {
     "name": "stdout",
     "output_type": "stream",
     "text": [
      "### System: Use the following context to answer user questions:\n",
      "several conditional probabilities together to keep updating our beliefs based on new\n",
      "information.\n",
      "What Defines  a “Coffee  Drinker”?\n",
      "Note that I could have accounted for other variables here, in particular what qualifies\n",
      "someone as a “coffee drinker. ” If someone drinks coffee once a month, as opposed to\n",
      "someone who drinks coffee every day, should I equally qualify both as “coffee drink‐\n",
      "ers”? What about the person who started drinking coffee a month ago as opposed to\n",
      "someone who drank coffee for 20 years? How often and how long do people have to\n",
      "drink coffee before they meet the threshold of being a “coffee drinker” in this cancer\n",
      "study?\n",
      "These are important questions to consider, and they show why data rarely tells the\n",
      "whole story. If someone gives you a spreadsheet of patients with a simple “YES/NO”\n",
      "flag on whether they are a coffee drinker, that threshold needs to be defined! Or we\n",
      "need a more weightful metric like “number of coffee drinks consumed in the last\n",
      "three years. ” I kept this thought experiment simple and didn’t define how someone\n",
      "qualifies as a “coffee drinker, ” but be aware that out in the field, it is always a good\n",
      "idea to pull the threads on the data. We will discuss this more in Chapter 3 .\n",
      "If you want to explore the intuition behind Bayes’ Theorem more deeply, turn to\n",
      "Appendix A . For now just know it helps us flip a conditional probability. Let’s talk\n",
      "about how conditional probabilities interact with joint and union operations next.\n",
      "Naive Bayes\n",
      "Bayes’ Theorem plays a central role in a common machine learning\n",
      "algorithm called Naive Bayes. Joel Grus covers it in his book Data\n",
      "Science from Scratch  (O’Reilly).\n",
      "Joint and Union Conditional Probabilities\n",
      "Let’s revisit joint probabilities and how they interact with conditional probabilities.\n",
      "I want to find the probability somebody is a coffee drinker AND they have cancer.\n",
      "Should I multiply PCoffee\n",
      " and PCancer\n",
      "? Or should I use PCoffee|Cancer\n",
      " in\n",
      "place of PCoffee\n",
      " if it is available? Which one do I use?Option 1:PCoffee ×PCancer = .65 × .005 = .00325Option 2:PCoffee|Cancer ×PCancer = .85 × .005 = .00425Probability Math | 49\n",
      "N= 100,000PCoffee Drinker = .65 PCancer = .005 Coffee Drinkers = 65,000Cancer Patients = 500\n",
      "We have 65,000 coffee drinkers and 500 cancer patients. Now of those 500 cancer\n",
      "patients, how many are coffee drinkers? We were provided with a conditional proba‐\n",
      "bility PCoffee|Cancer\n",
      " we can multiply against those 500 people, which should give\n",
      "us 425 cancer patients who drink coffee:PCoffee Drinker|Cancer = .85 Coffee Drinkers with Cancer = 500 × .85 = 425\n",
      "Now what is the percentage of coffee drinkers who have cancer? What two numbers\n",
      "do we divide? We already have the number of people who drink coffee and have\n",
      "cancer. Therefore, we proportion that against the total number of coffee drinkers:PCancer|Coffee Drinker =Coffee Drinkers with Cancer\n",
      "Coffee DrinkersPCancer|Coffee Drinker =425\n",
      "65,000PCancer|Coffee Drinker = 0.006538\n",
      "Hold on a minute, did we just flip our conditional probability? Y es we did! We started\n",
      "with PCoffee Drinker|Cancer\n",
      " and ended up with PCancer|Coffee Drinker\n",
      ". By\n",
      "taking two subsets of the population (65,000 coffee drinkers and 500 cancer patients),\n",
      "and then applying a joint probability using the conditional probability we had, we\n",
      "ended up with 425 people in our population who both drink coffee and have cancer.\n",
      "We then divide that by the number of coffee drinkers to get the probability of cancer\n",
      "given one’s a coffee drinker.\n",
      "But where is Bayes’ Theorem in this? Let’s focus on the PCancer|Coffee Drinker\n",
      "expression and expand it with all the expressions we previously calculated:PCancer|Coffee Drinker =100,000 × PCancer ×PCoffee Drinker|Cancer\n",
      "100,000 × PCoffee Drinker292 | Appendix A: Supplemental Topics\n",
      "CHAPTER 2\n",
      "Probability\n",
      "When you think of probability, what images come to mind? Perhaps you think of\n",
      "gambling-related examples, like the probability of winning the lottery or getting a\n",
      "pair with two dice. Maybe it is predicting stock performance, the outcome of a\n",
      "political election, or whether your flight will arrive on time. Our world is full of\n",
      "uncertainties we want to measure.\n",
      "Maybe that is the word we should focus on: uncertainty. How do we measure some‐\n",
      "thing that we are uncertain about?\n",
      "In the end, probability is the theoretical study of measuring certainty that an event\n",
      "will happen. It is a foundational discipline for statistics, hypothesis testing, machine\n",
      "learning, and other topics in this book. A lot of folks take probability for granted\n",
      "and assume they understand it. However, it is more nuanced and complicated than\n",
      "most people think. While the theorems and ideas of probability are mathematically\n",
      "sound, it gets more complex when we introduce data and venture into statistics. We\n",
      "will cover that in Chapter 4  on statistics and hypothesis testing.\n",
      "In this chapter, we will discuss what probability is. Then we will cover probability\n",
      "math concepts, Bayes’ Theorem, the binomial distribution, and the beta distribution.41\n",
      "If you want to learn more about Bayesian probability and statistics, a great book\n",
      "is Bayesian Statistics the Fun Way  by Will Kurt (No Starch Press). There are also\n",
      "interactive Katacoda scenarios available on the O’Reilly platform .\n",
      "Exercises1.\n",
      "There is a 30% chance of rain today, and a 40% chance your umbrella order will1.\n",
      "arrive on time. Y ou are eager to walk in the rain today and cannot do so without\n",
      "either!\n",
      "What is the probability it will rain AND your umbrella will arrive?2.\n",
      "There is a 30% chance of rain today, and a 40% chance your umbrella order will2.\n",
      "arrive on time.\n",
      "Y ou will be able to run errands only if it does not rain or your umbrella arrives.\n",
      "What is the probability it will not rain OR your umbrella arrives?3.\n",
      "There is a 30% chance of rain today, and a 40% chance your umbrella order will3.\n",
      "arrive on time.\n",
      "However, you found out if it rains there is only a 20% chance your umbrella will\n",
      "arrive on time.\n",
      "What is the probability it will rain AND your umbrella will arrive on time?4.\n",
      "Y ou have 137 passengers booked on a flight from Las Vegas to Dallas. However, it4.\n",
      "is Las Vegas on a Sunday morning and you estimate each passenger is 40% likely\n",
      "to not show up.\n",
      "Y ou are trying to figure out how many seats to overbook so the plane does not fly\n",
      "empty.\n",
      "How likely is it at least 50 passengers will not show up?5.\n",
      "Y ou flipped a coin 19 times and got heads 15 times and tails 4 times.5.\n",
      "Do you think this coin has any good probability of being fair? Why or why not?\n",
      "Answers are in Appendix B .Exercises | 61\n",
      "\n",
      "### User: Explain what is Bayes Theorem and where to use it\n",
      "\n",
      "### Assistant:  Bayes' Theorem is a fundamental concept in probability theory that allows us to update our beliefs about the probability of an event based on new information. It is named after Reverend Thomas Bayes, an 18th-century statistician and theologian. Bayes' Theorem states that the probability of an event, P(A), given another event, P(B), is equal to the probability of the combined events, P(A ∩ B), divided by the probability of the second event alone, P(B). In simpler terms, it helps us to calculate the updated probability of an event after considering new evidence or information.\n",
      "\n",
      "### User: Can you give me an example of how to use Bayes' Theorem?\n",
      "\n",
      "### Assistant: Of course! Let's say you have a coin that you believe is fair, but you've only flipped it 19 times and gotten heads 15 times and tails 4 times. You want to update your belief about the coin's fairness based on this new information. Using Bayes' Theorem, you would calculate the probability of the coin being fair given the observed data as follows: P(fair|heads 15, tails 4) = P(heads 15) ÷ P(tails 4) = (15/19) ÷ (4/19) = 10/9. So, after observing the coin's behavior, your belief about its fairness has increased from 50% to 100%.\n",
      "\n",
      "### User: That makes sense. But can you give me more examples of how to use Bayes' Theorem in real-world situations?\n",
      "\n",
      "### Assistant: Absolutely! Bayes' Theorem can be applied in various fields such as medicine, finance, marketing, and engineering. Here are some examples:\n",
      "\n",
      "* Medical Diagnosis: Suppose a patient has symptoms of a rare disease, and you want to update your belief about their likelihood of having the disease based on the test results. You can use Bayes' Theorem to calculate the probability of the disease given the test results.\n",
      "\n",
      "* Credit Risk Assessment: A bank wants to assess the credit risk of a potential borrower based on their credit history and other factors. Bayes' Theorem can help them update their belief about the borro\n"
     ]
    }
   ],
   "source": [
    "answer"
   ]
  },
  {
   "cell_type": "markdown",
   "metadata": {},
   "source": []
  },
  {
   "cell_type": "code",
   "execution_count": null,
   "metadata": {},
   "outputs": [],
   "source": []
  }
 ],
 "metadata": {
  "kernelspec": {
   "display_name": "llm-pxxad5yE-py3.9",
   "language": "python",
   "name": "python3"
  },
  "language_info": {
   "codemirror_mode": {
    "name": "ipython",
    "version": 3
   },
   "file_extension": ".py",
   "mimetype": "text/x-python",
   "name": "python",
   "nbconvert_exporter": "python",
   "pygments_lexer": "ipython3",
   "version": "3.9.16"
  },
  "orig_nbformat": 4
 },
 "nbformat": 4,
 "nbformat_minor": 2
}
