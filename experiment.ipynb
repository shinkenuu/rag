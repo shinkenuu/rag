{
 "cells": [
  {
   "cell_type": "code",
   "execution_count": 1,
   "metadata": {},
   "outputs": [
    {
     "name": "stderr",
     "output_type": "stream",
     "text": [
      "/home/shinkenuu/Projects/einstein/llm/.venv/lib/python3.9/site-packages/bitsandbytes/cuda_setup/main.py:106: UserWarning: \n",
      "\n",
      "================================================================================\n",
      "WARNING: Manual override via BNB_CUDA_VERSION env variable detected!\n",
      "BNB_CUDA_VERSION=XXX can be used to load a bitsandbytes version that is different from the PyTorch CUDA version.\n",
      "If this was unintended set the BNB_CUDA_VERSION variable to an empty string: export BNB_CUDA_VERSION=\n",
      "If you use the manual override make sure the right libcudart.so is in your LD_LIBRARY_PATH\n",
      "For example by adding the following to your .bashrc: export LD_LIBRARY_PATH=$LD_LIBRARY_PATH:<path_to_cuda_dir/lib64\n",
      "Loading CUDA version: BNB_CUDA_VERSION=118\n",
      "================================================================================\n",
      "\n",
      "\n",
      "  warn((f'\\n\\n{\"=\"*80}\\n'\n",
      "/home/shinkenuu/Projects/einstein/llm/.venv/lib/python3.9/site-packages/transformers/modeling_utils.py:2193: FutureWarning: The `use_auth_token` argument is deprecated and will be removed in v5 of Transformers.\n",
      "  warnings.warn(\n"
     ]
    },
    {
     "data": {
      "application/vnd.jupyter.widget-view+json": {
       "model_id": "347f88aabaa143feaf017faaeff02644",
       "version_major": 2,
       "version_minor": 0
      },
      "text/plain": [
       "Loading checkpoint shards:   0%|          | 0/2 [00:00<?, ?it/s]"
      ]
     },
     "metadata": {},
     "output_type": "display_data"
    },
    {
     "name": "stdout",
     "output_type": "stream",
     "text": [
      "Model loaded on cuda:0\n"
     ]
    },
    {
     "name": "stderr",
     "output_type": "stream",
     "text": [
      "/home/shinkenuu/Projects/einstein/llm/.venv/lib/python3.9/site-packages/transformers/tokenization_utils_base.py:1714: FutureWarning: The `use_auth_token` argument is deprecated and will be removed in v5 of Transformers.\n",
      "  warnings.warn(\n"
     ]
    }
   ],
   "source": [
    "from etl import etl\n",
    "from gpt import generate_text"
   ]
  },
  {
   "cell_type": "code",
   "execution_count": 8,
   "metadata": {},
   "outputs": [],
   "source": [
    "book_file_path = \"./textbooks/The_Data_Detective.pdf\"\n",
    "DB = etl(book_file_path)"
   ]
  },
  {
   "cell_type": "code",
   "execution_count": 9,
   "metadata": {},
   "outputs": [],
   "source": [
    "question = \"What is this book about?\""
   ]
  },
  {
   "cell_type": "code",
   "execution_count": 10,
   "metadata": {},
   "outputs": [],
   "source": [
    "docs = DB.similarity_search(question)\n",
    "context = '\\n'.join([doc.page_content for doc in docs])"
   ]
  },
  {
   "cell_type": "code",
   "execution_count": 11,
   "metadata": {},
   "outputs": [],
   "source": [
    "prompt = f\"\"\"### System: Use the following context to answer user questions:\\n{context}\n",
    "\n",
    "### User: {question}\n",
    "\n",
    "### Assistant: \"\"\""
   ]
  },
  {
   "cell_type": "code",
   "execution_count": 12,
   "metadata": {},
   "outputs": [],
   "source": [
    "answer = generate_text(prompt)"
   ]
  },
  {
   "cell_type": "code",
   "execution_count": 15,
   "metadata": {},
   "outputs": [
    {
     "name": "stdout",
     "output_type": "stream",
     "text": [
      "### System: Use the following context to answer user questions:\n",
      "What’s next on\n",
      "your reading list?\n",
      "D i s c o v e r   y o u r   n e x t\n",
      "g r e a t   r e a d !\n",
      " \n",
      "G e t   p e r s o n a l i z e d   b o o k   p i c k s   a n d   u p - t o - d a t e   n e w s   a b o u t   t h i s\n",
      "a u t h o r .\n",
      "S i g n   u p   n o w .\n",
      "CREDITS\n",
      "Chapter epigraphs\n",
      "1\n",
      ": Umberto Eco, \n",
      "Serendipities: Language and Lunacy\n",
      ". London: Orion, 1998.\n",
      "2\n",
      ": \n",
      "The Empire Strikes Back\n",
      " (1980); also known as \n",
      "Star Wars: Episode V\n",
      "; screenplay by Leigh Brackett and\n",
      "Lawrence Kasdan.\n",
      "3\n",
      ": Muhammad Yunus, interviewed by Steven Covey, “Stephen Covey Interviews Grameen Bank Founder\n",
      "Muhammad Yunus,” SocialBusinessPedia, last updated November 21, 2016,\n",
      "http://socialbusinesspedia.com/wiki/details/248\n",
      ".\n",
      "4\n",
      ": Douglas Adams, \n",
      "The Hitchhiker’s Guide to the Galaxy\n",
      ". London: Pan Books, 1979.\n",
      "5\n",
      ": Terry Pratchett, \n",
      "Reaper Man\n",
      ". London: Victor Gollancz, 1991.\n",
      "6\n",
      ": Alan Moore, \n",
      "Watchmen\n",
      ". New York: DC Comics, 1986.\n",
      "7\n",
      ": Anna Powell-Smith, MissingNumbers.org.\n",
      "8\n",
      ":\n",
      " 2001: A Space Odyssey \n",
      "(1968), screenplay by Stanley Kubrick and Arthur C. Clarke.\n",
      "9\n",
      ": Translation of a Danish TV interview, discussed in Peter Vinthagen Simpson, “Hans Rosling: ‘You Can’t\n",
      "Trust the Media,’” \n",
      "The Local\n",
      ", September 5, 2015, \n",
      "https://www.thelocal.se/20150905/hans-rosling-\n",
      "you-cant-trust-the-media\n",
      ".\n",
      "10\n",
      ": Michael Blastland, personal correspondence, May 13, 2013.\n",
      "11\n",
      ": Leon Festinger, Henry Riecken, and Stanley Schachter, \n",
      "When Prophecy Fails\n",
      ". New York: Harper\n",
      "Torchbooks, 1956.\n",
      "12\n",
      ": Orson Welles, remarks to students at the University of California, Los Angeles, \n",
      "1941.\n",
      "H\n",
      "—\n",
      "an van Meegeren had been arrested almost immediately after German\n",
      "occupation ended. He should have been prosecuted and punished for\n",
      "collaboration with the Nazis.\n",
      "The wily forger had prospered mightily under Nazi occupation. He owned\n",
      "several mansions. While Amsterdam starved during the war, he hosted regular\n",
      "orgies at which prostitutes helped themselves to fistfuls of jewels. If he wasn’t\n",
      "actually a Nazi himself, he went to extraordinary lengths to behave like one. He\n",
      "was friends with Nazis, and he bent over backward to celebrate Nazi ideology.\n",
      "Van Meegeren illustrated and published a lavishly evil book called\n",
      "Teekeningen 1\n",
      ", full of grotesque anti-Semitic poetry and illustrations, using the\n",
      "Nazi iconography and colors. He spared no expense in the printing of the book,\n",
      "and no wonder, given who he imagined might read it. A copy was hand-\n",
      "delivered to Adolf Hitler, with a handwritten \n",
      "dedication in artist’s charcoal: “To\n",
      "my beloved Führer in grateful tribute—Han van Meegeren.”\n",
      "It was found in Hitler’s library.\n",
      "To understand what happened next, we need to understand emotion rather\n",
      "than logic. The Dutch were disillusioned with themselves after five years of\n",
      "German occupation. Anne Frank was just the most famous of the huge number\n",
      "of Jews to have been deported from the Netherlands and murdered, but it is less\n",
      "well known that a far higher proportion of Dutch Jews were deported than those\n",
      "living in France or Belgium.\n",
      "25\n",
      " Van Meegeren, of course, was yet another\n",
      "collaborator. But in the wake of the war, the Dutch had become tired of parading\n",
      "such men through their courts, month after month. They desperately wanted a\n",
      "more inspiring story—just as Abraham Bredius desperately wanted to find a\n",
      "Caravaggesque Vermeer. Yet again, van Meegeren produced what was wanted:\n",
      "this time, a lighthearted tale of boldness and trickery in which a Dutchman had\n",
      "struck back against the Nazis.\n",
      "The men responsible for prosecuting van Meegeren soon became his\n",
      "unwitting accomplices. They arranged an absurd publicity stunt where he\n",
      "“proved” that he was a forger rather than a traitor by painting a picture in the\n",
      "style of \n",
      "Emmaus\n",
      ". One breathless headline reported: “He Paints for His Life.”\n",
      "Newspapers in the Netherlands and around the world couldn’t tear their gaze\n",
      "away from the great showman.\n",
      "Then came the trial, a media circus in which the charismatic van Meegeren\n",
      "was the ringmaster. He spun his story: that he had only forged the art to prove\n",
      "his worth as an artist, and to unmask the art experts as fools. When the judge\n",
      "Also by Tim Harford\n",
      "The Undercover Economist\n",
      "The Logic of Life: The Rational Economics of an Irrational World\n",
      "Dear Undercover Economist\n",
      "Adapt: Why Success Always Starts with Failure\n",
      "The Undercover Economist Strikes Back\n",
      "Messy: The Power of Disorder to Transform Our Lives\n",
      "Fifty Inventions That Shaped the Modern Economy\n",
      "\n",
      "### User: $What is this book about?\n",
      "\n",
      "### Assistant:  This book is about the life and times of Han van Meegeren, a Dutch forger who created fake versions of famous paintings during World War II. It explores how van Meegeren's creations were discovered and how they were used to expose the truth about the art market. Additionally, it delves into the psychological aspects of why people are drawn to stories of forgery and deception, and how these tales can shape our understanding of art and identity. Would you like me to provide more information on the book's contents?\n"
     ]
    }
   ],
   "source": [
    "print(answer[0]['generated_text'])"
   ]
  },
  {
   "cell_type": "code",
   "execution_count": null,
   "metadata": {},
   "outputs": [],
   "source": []
  }
 ],
 "metadata": {
  "kernelspec": {
   "display_name": "llm-pxxad5yE-py3.9",
   "language": "python",
   "name": "python3"
  },
  "language_info": {
   "codemirror_mode": {
    "name": "ipython",
    "version": 3
   },
   "file_extension": ".py",
   "mimetype": "text/x-python",
   "name": "python",
   "nbconvert_exporter": "python",
   "pygments_lexer": "ipython3",
   "version": "3.9.16"
  },
  "orig_nbformat": 4
 },
 "nbformat": 4,
 "nbformat_minor": 2
}
